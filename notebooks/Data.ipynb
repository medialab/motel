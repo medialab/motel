{
 "cells": [
  {
   "cell_type": "code",
   "execution_count": 3,
   "metadata": {},
   "outputs": [],
   "source": [
    "import csv\n",
    "import spacy"
   ]
  },
  {
   "cell_type": "code",
   "execution_count": 5,
   "metadata": {},
   "outputs": [],
   "source": [
    "nlp = spacy.load('fr')"
   ]
  },
  {
   "cell_type": "code",
   "execution_count": 9,
   "metadata": {},
   "outputs": [
    {
     "name": "stdout",
     "output_type": "stream",
     "text": [
      "SENTENCE Gilets jaunes.\n",
      "SENTENCE Face à des gilets jaunes qui tournent le dos à la classe politique et aux intermédiaires traditionnels, Emmanuel Macron est appelé à une relance de la démocratie participative , qui pourrait trouver une place dans son discours lundi soir.\n",
      "SENTENCE Le chef de l’Etat recevait, ce lundi, les représentants des principaux syndicats français, du patronat, des deux assemblées et des associations d’élus locaux.\n",
      "SENTENCE Chacun a pu s’exprimer tour à tour pendant quatre heures.\n",
      "SENTENCE Les patrons de syndicats ont indiqué avoir été écoutés mais n’avoir rien appris .\n",
      "\n",
      "SENTENCE Bordeaux.\n",
      "SENTENCE Le jeune homme qui a eu la main arrachée en ramassant une grenade lors de la manifestation des gilets jaunes samedi à Bordeaux a annoncé lundi son intention de porter plainte .\n",
      "\n",
      "SENTENCE Grenades de désencerclement.\n",
      "SENTENCE Un commissaire et un policier ont été jugés coupables lundi de «blessures involontaires» après le tir d’une grenade de désencerclement qui a éborgné une jeune femme en 2007.\n",
      "SENTENCE Une décision amenée à faire jurisprudence, selon l’avocat des parties civiles .\n",
      "\n",
      "SENTENCE Brexit.\n",
      "SENTENCE Le gouvernement britannique «accélère ses préparatifs en vue d’\n",
      "SENTENCE un non-accord» de sortie de l’Union européenne, a annoncé lundi au parlement la Première ministre Theresa May, après avoir reporté un vote crucial sur l’accord conclu avec Bruxelles.\n",
      "\n",
      "SENTENCE Renault.  \n",
      "SENTENCE Le bureau des procureurs de Tokyo  a inculpé ce lundi le PDG de l’alliance Renault\n",
      "SENTENCE -Nissan\n",
      "SENTENCE -Mitsubishi , Carlos Ghosn, pour dissimulation de revenus perçus chez Nissan sur 5 ans, rapportent des médias japonais.\n",
      "SENTENCE Sa garde à vue qui dure depuis maintenant trois semaines a été prolongée pour une période de dix jours renouvelable.\n",
      "\n",
      "SENTENCE Migrations.  \n",
      "SENTENCE Le  Pacte mondial sur les migrations\n",
      "SENTENCE des Nations unies  a été formellement approuvé ce lundi à Marrakech (Maroc), devant quelque 150 pays réunis en conférence intergouvernementale.\n",
      "\n",
      "SENTENCE Prix Nobel.\n",
      "SENTENCE En recevant le Nobel de la paix lundi, la Yazidie Nadia Murad, elle-même ex-esclave du groupe État islamique (EI), a imploré la communauté internationale de protéger son peuple et d’œuvrer à la libération des milliers de femmes et enfants toujours aux mains des jihadistes.\n",
      "\n",
      "SENTENCE Roissy.  \n",
      "SENTENCE Quatorze ans après l’affaissement d’un tronçon du terminal 2E de l’aéroport de Roissy, qui avait fait quatre morts, l’exploitant ADP et trois sociétés sont jugés à partir de ce lundi devant le tribunal correctionnel de Bobigny.\n",
      "SENTENCE Notre article sur  cette si lente instruction .\n",
      "\n",
      "SENTENCE Femen.\n",
      "SENTENCE Une ex-militante Femen qui était rejugée en appel à Paris pour exhibition sexuelle après une action seins nus au musée Grévin en juin 2014, a à nouveau été relaxée de ce délit lundi par la cour d’appel , a appris l’AFP auprès de son avocate.\n",
      "SENTENCE Elle avait attaqué à coups de pieu la statue de cire du président russe Vladimir Poutine au musée Grévin, à Paris, et avait inscrit «Kill Putin» ( «Tuez Poutine» ) sur sa poitrine.\n",
      "SENTENCE LIBERATION avec AFP\n"
     ]
    }
   ],
   "source": [
    "with open('../data/gj.csv') as f:\n",
    "    reader = csv.DictReader(f)\n",
    "    \n",
    "    for i, line in enumerate(reader):\n",
    "        doc = nlp(line['extracted_content'])\n",
    "        \n",
    "        for sentence in doc.sents:\n",
    "            print('SENTENCE', sentence)\n",
    "        break"
   ]
  }
 ],
 "metadata": {
  "kernelspec": {
   "display_name": "Python 3",
   "language": "python",
   "name": "python3"
  },
  "language_info": {
   "codemirror_mode": {
    "name": "ipython",
    "version": 3
   },
   "file_extension": ".py",
   "mimetype": "text/x-python",
   "name": "python",
   "nbconvert_exporter": "python",
   "pygments_lexer": "ipython3",
   "version": "3.6.5"
  }
 },
 "nbformat": 4,
 "nbformat_minor": 2
}
